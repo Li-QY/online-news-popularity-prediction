{
  "cells": [
    {
      "cell_type": "code",
      "execution_count": null,
      "metadata": {
        "id": "RRTRSiPb467j"
      },
      "outputs": [],
      "source": [
        "import numpy as np\n",
        "import pandas as pd"
      ]
    },
    {
      "cell_type": "markdown",
      "metadata": {
        "id": "RSkUG2CA5IrL"
      },
      "source": [
        "Mount your Google Drive. In this notebook, we assume that 'report1' folder is placed directly under 'My Drive'."
      ]
    },
    {
      "cell_type": "code",
      "execution_count": null,
      "metadata": {
        "id": "56CkXhQu5Pe4"
      },
      "outputs": [],
      "source": [
        "# from google.colab import drive\n",
        "# drive.mount('/content/drive')"
      ]
    },
    {
      "cell_type": "code",
      "execution_count": null,
      "metadata": {
        "id": "BD2mdnv55iw4"
      },
      "outputs": [],
      "source": [
        "!ls /content/drive/My\\ Drive  #You should be able to see 'report1' folder by running this."
      ]
    },
    {
      "cell_type": "markdown",
      "metadata": {
        "id": "rtU_Jfu15V7i"
      },
      "source": [
        "Sample code (Ridge regression) for the assignment."
      ]
    },
    {
      "cell_type": "code",
      "execution_count": null,
      "metadata": {
        "id": "_J9v1rzg467n"
      },
      "outputs": [],
      "source": [
        "def ridgeRegres(xArr,yArr, gamma):\n",
        "    xMat = np.mat(xArr)\n",
        "    yMat = np.mat(yArr)\n",
        "    \n",
        "    xTx = xMat*xMat.T + gamma*np.eye(xMat.shape[0])\n",
        "    if np.linalg.det(xTx) == 0.0:\n",
        "        print(\"This matrix is singular, cannot do inverse\")\n",
        "        return\n",
        "    ws = np.linalg.solve(xTx, xMat*yMat)\n",
        "    return ws\n",
        "\n",
        "def RMSE(vec1, vec2):\n",
        "    return np.sqrt(np.mean(np.power(vec1-vec2,2)))\n",
        "\n",
        "def MABS(vec1, vec2):\n",
        "    return np.mean(np.abs(vec1 - vec2))"
      ]
    },
    {
      "cell_type": "code",
      "execution_count": null,
      "metadata": {
        "id": "sSZdc1Aj467p"
      },
      "outputs": [],
      "source": [
        "root_dir=\"/content/drive/My Drive/report1/\"\n",
        "N = 20000\n",
        "\n",
        "train_data = pd.read_csv(root_dir+\"train.csv\")\n",
        "test_data = pd.read_csv(root_dir+\"test.csv\")\n",
        "\n",
        "train_data = train_data.drop(['url'], axis=1) #remove 'url' information.\n",
        "train_data = train_data.drop(['timedelta'], axis=1) #remove 'timedelta' information.\n",
        "X = np.matrix(train_data.drop(['shares'], axis=1)) \n",
        "y = np.matrix(train_data['shares']) #This is the target\n",
        "XTrain = X[:N,:].T #use the first N samples for training\n",
        "yTrain = y[:,:N].T\n",
        "XVal = X[N:,:].T #use the rests for validation\n",
        "yVal = y[:,N:].T\n",
        "\n",
        "XTest = np.matrix(test_data).T #final testing data"
      ]
    },
    {
      "cell_type": "markdown",
      "metadata": {
        "id": "4m7dAWcr54aO"
      },
      "source": [
        "Run Ridge regression."
      ]
    },
    {
      "cell_type": "code",
      "execution_count": null,
      "metadata": {
        "id": "NMNkYM1p467v"
      },
      "outputs": [],
      "source": [
        "w = ridgeRegres(XTrain,yTrain,gamma=0) #linear regression"
      ]
    },
    {
      "cell_type": "markdown",
      "metadata": {
        "id": "tJYNZ-u7595p"
      },
      "source": [
        "Evaluate training and validation errors."
      ]
    },
    {
      "cell_type": "code",
      "execution_count": null,
      "metadata": {
        "id": "Xum8f8Nu467y"
      },
      "outputs": [],
      "source": [
        "yHatTrain = np.dot(w.T, XTrain)\n",
        "yHatVal = np.dot(w.T, XVal)\n",
        "\n",
        "print(\"Training error \", MABS(yTrain, yHatTrain.T))\n",
        "print(\"Validation error \", MABS(yVal, yHatVal.T))"
      ]
    },
    {
      "cell_type": "markdown",
      "metadata": {
        "id": "4eJ2XsU56CwN"
      },
      "source": [
        "Now, project the testing data. You can upload 'result.txt' to the evaluation server."
      ]
    },
    {
      "cell_type": "code",
      "execution_count": null,
      "metadata": {
        "id": "yOcWlWAn4672"
      },
      "outputs": [],
      "source": [
        "yHatTest = np.dot(w.T, XTest)\n",
        "np.savetxt(root_dir+'result.txt', yHatTest.T) #save predictions in rows"
      ]
    },
    {
      "cell_type": "code",
      "execution_count": null,
      "metadata": {
        "id": "jetzXfa64674"
      },
      "outputs": [],
      "source": []
    }
  ],
  "metadata": {
    "colab": {
      "collapsed_sections": [],
      "name": "sample.ipynb",
      "provenance": []
    },
    "kernelspec": {
      "display_name": "Python 3",
      "language": "python",
      "name": "python3"
    },
    "language_info": {
      "codemirror_mode": {
        "name": "ipython",
        "version": 3
      },
      "file_extension": ".py",
      "mimetype": "text/x-python",
      "name": "python",
      "nbconvert_exporter": "python",
      "pygments_lexer": "ipython3",
      "version": "3.6.2"
    }
  },
  "nbformat": 4,
  "nbformat_minor": 0
}
